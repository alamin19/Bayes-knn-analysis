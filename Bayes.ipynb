{
 "cells": [
  {
   "cell_type": "code",
   "execution_count": 58,
   "id": "0468b99e-488c-468b-aa7d-d647b2920846",
   "metadata": {},
   "outputs": [],
   "source": [
    "import numpy as np\n",
    "import glob\n",
    "import datetime\n",
    "from datetime import date\n",
    "from datetime import timedelta\n",
    "# import datetime\n",
    "# from dateutil.relativedelta import relativedelta\n",
    "# from datetime import datetime\n",
    "# import pandas as pd\n",
    "import os\n",
    "from netCDF4 import Dataset\n",
    "import netCDF4 as nc\n",
    "import xarray as xr\n",
    "# from osgeo import gd\n",
    "# import geopandas as gpd\n",
    "# from shapely.geometry import MultiPolygon, Polygon, Point\n",
    "# from scipy import io\n",
    "import pandas as pd\n",
    "import matplotlib.pyplot as plt"
   ]
  },
  {
   "cell_type": "code",
   "execution_count": 59,
   "id": "87fba763-4911-47f6-9bca-a139c5a6679d",
   "metadata": {},
   "outputs": [],
   "source": [
    "#coding th ELISA example:\n",
    "#Example 1"
   ]
  },
  {
   "cell_type": "code",
   "execution_count": 60,
   "id": "710a6a8e-e394-4a18-9857-7faec269675e",
   "metadata": {},
   "outputs": [],
   "source": [
    "#E1= Elisa is positive\n",
    "#E2= Elisa is negative\n",
    "#A>0 has HIV\n",
    "#A<0 dosnt have HIV"
   ]
  },
  {
   "cell_type": "code",
   "execution_count": 61,
   "id": "8ef59522-180d-45c5-95a1-cf6e2d608b3c",
   "metadata": {},
   "outputs": [],
   "source": [
    "#(ELISA is positive ∣ Person tested has HIV) = 93% = 0.93.\n",
    "#P{E1 |A) = 0.93\n",
    "TPR=0.93\n",
    "\n",
    "#(ELISA is negative ∣ Person tested has HIV) \n",
    "FNR=1-TPR #=0.07"
   ]
  },
  {
   "cell_type": "code",
   "execution_count": 62,
   "id": "d5adb86e-a265-4e6c-9f3a-d415badd6506",
   "metadata": {},
   "outputs": [],
   "source": [
    "#P(ELISA is negative ∣ Person tested has no  HIV)= \n",
    "TNR=0.99#1-FP #0.99\n",
    "#P(ELISA is Positive ∣ Person tested has  no HIV)=  1% = 0.01.\n",
    "#P{E2 | A }=0.01\n",
    "FPR=1-TNR"
   ]
  },
  {
   "cell_type": "code",
   "execution_count": 77,
   "id": "24b61eba-bfc5-4f8e-9cd5-4340ffef673c",
   "metadata": {},
   "outputs": [],
   "source": [
    "#equation 1.1 in the example\n",
    "#P(Person tested has HIV)\n",
    "#No of HIV infected/ total population = 1.48/1000\n",
    "#P{A/N}=.00148\n",
    "P_AbyN=0.93"
   ]
  },
  {
   "cell_type": "code",
   "execution_count": 78,
   "id": "12dca73a-98a7-435b-9888-652a667549f6",
   "metadata": {},
   "outputs": [],
   "source": [
    "#Equation 1.2\n",
    "#Our goal is to compute the probability of HIV if ELISA is positive, that is  how good your test is\n",
    "#P{Person tested has HIV ∣ ELISA is positive}\n",
    "#P{A | E1}\n",
    "#or, \n",
    "#P(Person tested has HIV ∣ ELISA is positive) = P(Person tested has HIV & ELISA is positive)/P(ELISA is positive)\n",
    "\n"
   ]
  },
  {
   "cell_type": "code",
   "execution_count": 79,
   "id": "d7f5b1a5-12f2-4157-8cc2-c3499c7426c7",
   "metadata": {},
   "outputs": [
    {
     "data": {
      "text/plain": [
       "0.8649000000000001"
      ]
     },
     "execution_count": 79,
     "metadata": {},
     "output_type": "execute_result"
    }
   ],
   "source": [
    "#Equation 1.3 \n",
    "#Numerator\n",
    "#P(Person tested has HIV & ELISA is positive)\n",
    "#Bayes' rule\n",
    "#P(Person tested has HIV & ELISA is positive)= P(Person tested has HIV)P(ELISA is positive ∣ Person tested has HIV)\n",
    "#P{E1 | A} =  P_AbyN * P{E1 |A)\n",
    "P_E1_and_A=P_AbyN * TPR #0.00148 * 0.93 \n",
    "P_E1_and_A\n"
   ]
  },
  {
   "cell_type": "code",
   "execution_count": 80,
   "id": "1e8b2e04-1c9d-4243-a65f-1f3b08a09e10",
   "metadata": {},
   "outputs": [
    {
     "data": {
      "text/plain": [
       "0.8656000000000001"
      ]
     },
     "execution_count": 80,
     "metadata": {},
     "output_type": "execute_result"
    }
   ],
   "source": [
    "#denominator\n",
    "#P(ELISA is positive) \n",
    "#=P{Person tested has HIV&ELISA is positive}+P{Person tested has no HIV& ELISA positive}\n",
    "#=P_E1_and_A+P{Person tested has no HIV& ELISA positive}\n",
    "#=P_E1_and_A+P_E1_and_Aneg\n",
    "\n",
    "\n",
    "#P{Person tested has no HIV& ELISA positive}\n",
    "#=P{Person tested has no  HIV}P{ELISA is positive ∣ Person tested has no HIV}\n",
    "#={1-P_AbyN}P{ELISA is positive ∣ Person tested has no HIV} =(1-0.00148)* P{ELISA is positive ∣ Person tested has no HIV}\n",
    "\n",
    "#P{ELISA is positive ∣ Person tested has no HIV}\n",
    "#which is the false positive  rate\n",
    "\n",
    "#Therefore:\n",
    "    \n",
    "#P{Person tested has no HIV& ELISA positive} =(1-0.00148)*FPR\n",
    "P_E1_and_Aneg=(1-P_AbyN)*FPR\n",
    "\n",
    "\n",
    "#P(ELISA is positive) or P{E1}\n",
    "P_E1=P_E1_and_A+P_E1_and_Aneg\n",
    "\n",
    "P_E1"
   ]
  },
  {
   "cell_type": "code",
   "execution_count": 81,
   "id": "0e18b51e-b62d-4453-93e1-f721c6bd5d1c",
   "metadata": {},
   "outputs": [],
   "source": [
    "#solution to Equation 1.2 or what we want:\n",
    "#P(Person tested has HIV ∣ ELISA is positive) = P(Person tested has HIV & ELISA is positive)/P(ELISA is positive)\n",
    "P_acc=P_E1_and_A/P_E1"
   ]
  },
  {
   "cell_type": "code",
   "execution_count": 82,
   "id": "aa721216-7637-4410-b42f-66879f65a1c7",
   "metadata": {},
   "outputs": [
    {
     "data": {
      "text/plain": [
       "0.9991913123844731"
      ]
     },
     "execution_count": 82,
     "metadata": {},
     "output_type": "execute_result"
    }
   ],
   "source": [
    "P_acc"
   ]
  },
  {
   "cell_type": "code",
   "execution_count": 83,
   "id": "963cdf87-3e16-4e17-ad14-d10f450abefd",
   "metadata": {},
   "outputs": [
    {
     "data": {
      "text/plain": [
       "99.9191312384473"
      ]
     },
     "execution_count": 83,
     "metadata": {},
     "output_type": "execute_result"
    }
   ],
   "source": [
    "P_acc*100"
   ]
  },
  {
   "cell_type": "code",
   "execution_count": 57,
   "id": "cd1319e9-a1bd-4a80-a89f-e9994b3b98db",
   "metadata": {},
   "outputs": [],
   "source": [
    "#lets look at the case when a person is tested positive second time "
   ]
  },
  {
   "cell_type": "code",
   "execution_count": 84,
   "id": "fbbcf667-3f26-413d-80f4-3f4e7662aee9",
   "metadata": {},
   "outputs": [],
   "source": [
    "# imagine a new test kit arrrived in the market to test covid (using the data from example 2)\n",
    "test=[1,1,1,1,-1,-1,-1,1,1,-1,1,-1,-1,1,-1,1,-1,1,1,-1,-1,-1,-1,-1,-1,1,1-1,-1,-1,-1,-1,1,1,1,1,1,1,1,1,1,1,1,1,1,1,1,1]\n",
    "fact=[1,1,-1,-1,1,-1,1,1,-1,1,1,-1,-1,1,1,1,1,1,1,-1,-1,-1,-1,-1,-1,1,1,1,-1,1,-1,-1,-1,1,1,1,1,1,1,1,1,1,1,1,1,1,1,1]"
   ]
  },
  {
   "cell_type": "code",
   "execution_count": 85,
   "id": "4f9b8d33-2895-46bc-b17e-9e71fae9c8c8",
   "metadata": {},
   "outputs": [],
   "source": [
    "TP=[];TN=[];FP=[];FN=[]\n",
    "for i in range(len(test)):\n",
    "    if test[i]==1 and fact[i] ==1:\n",
    "        TP.append(1)\n",
    "    if test[i]==-1 and fact[i] ==-1:\n",
    "        TN.append(1)      \n",
    "    if test[i]==1 and fact[i] ==-1:\n",
    "        FP.append(1)  \n",
    "    if test[i]==-1 and fact[i] ==1:\n",
    "        FN.append(1)        "
   ]
  },
  {
   "cell_type": "code",
   "execution_count": 86,
   "id": "f3ed3a50-cfb1-4aad-b980-06e914456eef",
   "metadata": {},
   "outputs": [],
   "source": [
    "TP=np.sum(TP)\n",
    "FP=np.sum(FP)\n",
    "TN=np.sum(TN)\n",
    "FN=np.sum(FN)"
   ]
  },
  {
   "cell_type": "code",
   "execution_count": 87,
   "id": "c29299b2-fc67-4729-8217-0beb88dd97f9",
   "metadata": {},
   "outputs": [
    {
     "data": {
      "text/plain": [
       "0.25"
      ]
     },
     "execution_count": 87,
     "metadata": {},
     "output_type": "execute_result"
    }
   ],
   "source": [
    "TPR = TP / (TP + FN)\n",
    "FPR = FP / (FP + TN)\n",
    "FPR\n"
   ]
  },
  {
   "cell_type": "code",
   "execution_count": 88,
   "id": "0f8db78a-d796-4547-89bd-2902c357e32d",
   "metadata": {},
   "outputs": [],
   "source": [
    "FNR=1-TPR\n",
    "TNR=1-FPR"
   ]
  },
  {
   "cell_type": "code",
   "execution_count": 97,
   "id": "8cc2d91c-83a5-4943-8b72-db2b19729ffb",
   "metadata": {},
   "outputs": [
    {
     "data": {
      "text/plain": [
       "0.84"
      ]
     },
     "execution_count": 97,
     "metadata": {},
     "output_type": "execute_result"
    }
   ],
   "source": [
    "#P(Person tested positive has COVID)\n",
    "#No of COVID infected/ total population = 2/1000\n",
    "#P{A/N}=.00148\n",
    "P_AbyN=0.84#2/1000 \n",
    "P_AbyN"
   ]
  },
  {
   "cell_type": "code",
   "execution_count": 98,
   "id": "4f460524-4672-49b5-911a-dcc463f9d0b4",
   "metadata": {},
   "outputs": [
    {
     "data": {
      "text/plain": [
       "0.672"
      ]
     },
     "execution_count": 98,
     "metadata": {},
     "output_type": "execute_result"
    }
   ],
   "source": [
    "#P(Person tested has COVID ∣ TEST1 is positive) = P(Person tested has COVID & TEST1 is positive)/P(TEST1 is positive)\n",
    "#NUM\n",
    "P_E1_and_A=P_AbyN * TPR #values were 0.00148 * 0.93  in the previous example for elisa\n",
    "P_E1_and_A\n"
   ]
  },
  {
   "cell_type": "code",
   "execution_count": 99,
   "id": "91918d5c-113a-4044-b7bd-f33c7eda03a2",
   "metadata": {},
   "outputs": [
    {
     "data": {
      "text/plain": [
       "0.7120000000000001"
      ]
     },
     "execution_count": 99,
     "metadata": {},
     "output_type": "execute_result"
    }
   ],
   "source": [
    "#DENOM\n",
    "#P_E1=P_E1_and_A+P_E1_and_Aneg\n",
    "P_E1_and_Aneg=(1-P_AbyN)*FPR\n",
    "P_E1=P_E1_and_A+P_E1_and_Aneg\n",
    "P_E1"
   ]
  },
  {
   "cell_type": "code",
   "execution_count": 100,
   "id": "09f6fdf7-3891-4f4d-a851-7675abbaff17",
   "metadata": {},
   "outputs": [
    {
     "data": {
      "text/plain": [
       "94.3820224719101"
      ]
     },
     "execution_count": 100,
     "metadata": {},
     "output_type": "execute_result"
    }
   ],
   "source": [
    "P_acc=P_E1_and_A/P_E1\n",
    "P_acc*100"
   ]
  },
  {
   "cell_type": "code",
   "execution_count": null,
   "id": "a8ae528e-f40d-4feb-a0c5-9125f1e58c9a",
   "metadata": {},
   "outputs": [],
   "source": []
  },
  {
   "cell_type": "code",
   "execution_count": null,
   "id": "d28d85e7-ce3c-476d-a6d0-18b5866b373e",
   "metadata": {},
   "outputs": [],
   "source": []
  },
  {
   "cell_type": "code",
   "execution_count": null,
   "id": "21cc61fb",
   "metadata": {},
   "outputs": [],
   "source": []
  },
  {
   "cell_type": "code",
   "execution_count": null,
   "id": "0b5ab110",
   "metadata": {},
   "outputs": [],
   "source": []
  },
  {
   "cell_type": "code",
   "execution_count": null,
   "id": "d2c092b3",
   "metadata": {},
   "outputs": [],
   "source": []
  }
 ],
 "metadata": {
  "kernelspec": {
   "display_name": "Python 3 (ipykernel)",
   "language": "python",
   "name": "python3"
  },
  "language_info": {
   "codemirror_mode": {
    "name": "ipython",
    "version": 3
   },
   "file_extension": ".py",
   "mimetype": "text/x-python",
   "name": "python",
   "nbconvert_exporter": "python",
   "pygments_lexer": "ipython3",
   "version": "3.12.4"
  }
 },
 "nbformat": 4,
 "nbformat_minor": 5
}
